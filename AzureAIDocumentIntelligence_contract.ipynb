{
 "cells": [
  {
   "cell_type": "markdown",
   "metadata": {},
   "source": [
    "# Azure AI Document Intelligence 契約書モデルの分析\n",
    "\n",
    "Document Intelligence 契約書モデルでは、高性能の光学式文字認識 (OCR) 機能を使用して、重要な契約書エンティティの選択したグループから主要なフィールドと明細を分析および抽出します。電話でキャプチャされた画像、スキャンされたドキュメント、デジタル PDF など、さまざまな形式や品質の契約書を使用できます。API は、関係者、管轄区域、契約書 ID、役職などの重要な情報を抽出し、構造化された JSON データ表現を返して、ドキュメントテキストを分析します。このモデルでは現在、英語のドキュメント形式がサポートされています。\n",
    "\n",
    "https://learn.microsoft.com/azure/ai-services/document-intelligence/concept-contract?view=doc-intel-4.0.0#field-extraction"
   ]
  },
  {
   "cell_type": "code",
   "execution_count": null,
   "metadata": {},
   "outputs": [],
   "source": [
    "!pip install azure-ai-documentintelligence --upgrade"
   ]
  },
  {
   "cell_type": "code",
   "execution_count": null,
   "metadata": {},
   "outputs": [],
   "source": [
    "import azure.ai.documentintelligence\n",
    "print(\"Azure Document Intelligence version: \", azure.ai.documentintelligence.__version__)"
   ]
  },
  {
   "cell_type": "code",
   "execution_count": null,
   "metadata": {},
   "outputs": [],
   "source": [
    "# import libraries\n",
    "import os\n",
    "from azure.core.credentials import AzureKeyCredential\n",
    "from azure.ai.documentintelligence import DocumentIntelligenceClient\n",
    "from azure.ai.documentintelligence.models import AnalyzeDocumentRequest, AnalyzeResult\n",
    "\n",
    "# set `<your-endpoint>` and `<your-key>` variables with the values from the Azure portal\n",
    "endpoint = \"<your-endpoint>\"\n",
    "key = \"<your-key>\"\n",
    "\n",
    "document_intelligence_client = DocumentIntelligenceClient(endpoint=endpoint, credential=AzureKeyCredential(key))\n"
   ]
  },
  {
   "cell_type": "markdown",
   "metadata": {},
   "source": [
    "## URL から呼ぶ方法\n",
    "契約書モデルのモデル名は `prebuilt-contract` です。[対応言語](https://learn.microsoft.com/azure/ai-services/document-intelligence/language-support-prebuilt?view=doc-intel-4.0.0&tabs=languages%2Cthermal#contract)でないドキュメントの場合は、`prebuilt-layout` をお使いください。"
   ]
  },
  {
   "cell_type": "code",
   "execution_count": null,
   "metadata": {},
   "outputs": [],
   "source": [
    "docUrl = \"https://documentintelligence.ai.azure.com/documents/samples/prebuilt/contract.pdf\"\n",
    "\n",
    "poller = document_intelligence_client.begin_analyze_document(\n",
    "    \"prebuilt-contract\", AnalyzeDocumentRequest(url_source=docUrl)\n",
    ")\n",
    "result: AnalyzeResult = poller.result()"
   ]
  },
  {
   "cell_type": "markdown",
   "metadata": {},
   "source": [
    "## ファイルを直接アップロードする方法"
   ]
  },
  {
   "cell_type": "code",
   "execution_count": null,
   "metadata": {},
   "outputs": [],
   "source": [
    "path_to_sample_documents = \"./contract.pdf\"\n",
    "\n",
    "with open(path_to_sample_documents, \"rb\") as f:\n",
    "    poller = document_intelligence_client.begin_analyze_document(\n",
    "        \"prebuilt-contract\", analyze_request=f, content_type=\"application/octet-stream\"\n",
    "    )\n",
    "result: AnalyzeResult = poller.result()\n"
   ]
  },
  {
   "cell_type": "markdown",
   "metadata": {},
   "source": [
    "### Debug用コード\n",
    "\n",
    "[jsonpickle](https://pypi.org/project/jsonpickle/) ライブラリを使用すると `AnalyzeResult` オブジェクト構造をそのまま JSON へ保存できます。Document Intelligence の分析データを一旦自分の手元に置いて細かく調べたい時に有用です。VSCode の [Json Editor](https://marketplace.visualstudio.com/items?itemName=nickdemayo.vscode-json-editor) 拡張が便利です。"
   ]
  },
  {
   "cell_type": "code",
   "execution_count": null,
   "metadata": {},
   "outputs": [],
   "source": [
    "import jsonpickle\n",
    "# Debug 用(AnalyzeResultオブジェクト構造をそのままJSONへ)\n",
    "json_data = jsonpickle.encode(result)\n",
    "with open('analyzed_data.json', \"w\", encoding='utf-8') as f:\n",
    "    f.write(json_data)\n",
    "\n",
    "# JSON からオブジェクト構造を復元\n",
    "# f = open(\"analyzed_data.json\")\n",
    "# json_str = f.read()\n",
    "# result = jsonpickle.decode(json_str)"
   ]
  },
  {
   "cell_type": "markdown",
   "metadata": {},
   "source": [
    "## テキスト行の手書きスタイル\n",
    "応答では、各テキスト行が手書きスタイルであるかどうかと、信頼度スコアが分類されます。\n"
   ]
  },
  {
   "cell_type": "code",
   "execution_count": null,
   "metadata": {},
   "outputs": [],
   "source": [
    "for idx, style in enumerate(result.styles):\n",
    "    print(\n",
    "        \"Document contains {} content\".format(\n",
    "            \"handwritten\" if style.is_handwritten else \"no handwritten\"\n",
    "        )\n",
    "    )"
   ]
  },
  {
   "cell_type": "markdown",
   "metadata": {},
   "source": [
    "## ページ\n",
    "ページ コレクションは、サービス応答に表示される最初のオブジェクトです。レイアウトモデルでは、印刷および手書きのスタイルテキストが `lines` および `words` として抽出されます。このモデルでは、抽出された単語の境界 `polygon` 座標と `confidence` を出力します。\n",
    "\n",
    "### 選択マーク\n",
    "ドキュメントから選択マークも抽出されます。抽出された選択マークは、各ページの `pages` コレクション内に示されます。これには、境界 `polygon`、`confidence`、および選択 `state` (`selected/unselected`) が含まれます。関連するテキスト (抽出された場合) も、開始インデックス (`offset`) と `length` として含まれます。`length` はドキュメントのテキスト全体を含む最上位の `content` プロパティを参照します。"
   ]
  },
  {
   "cell_type": "code",
   "execution_count": null,
   "metadata": {},
   "outputs": [],
   "source": [
    "for page in result.pages:\n",
    "    print(f\"----Analyzing layout from page #{page.page_number}----\")\n",
    "    print(f\"Page has width: {page.width} and height: {page.height}, measured with unit: {page.unit}\")\n",
    "\n",
    "    if page.lines:\n",
    "        for line_idx, line in enumerate(page.lines):\n",
    "            print(f\"...Line # {line_idx} {line.content}\")\n",
    "\n",
    "    if page.selection_marks:\n",
    "        for selection_mark in page.selection_marks:\n",
    "            print(\n",
    "                f\"Selection mark is '{selection_mark.state}' within bounding polygon \"\n",
    "                f\"'{selection_mark.polygon}' and has a confidence of {selection_mark.confidence}\"\n",
    "            )"
   ]
  },
  {
   "cell_type": "markdown",
   "metadata": {},
   "source": [
    "## テーブル\n",
    "レイアウトモデルでは、JSON 出力の `tables` セクションにテーブルが抽出されます。抽出されるテーブル情報には、列と行の数、行の範囲、列の範囲が含まれます。境界ポリゴンのある各セルは、その領域が `columnHeader` として認識されているかどうかにかかわらず、情報と共に出力されます。このモデルでは、回転されるテーブルの抽出がサポートされています。各テーブル セルには、行と列のインデックスと境界ポリゴン座標が含まれています。セル テキストの場合、このモデルは開始インデックス (`offset`) を含む `span` 情報を出力します。"
   ]
  },
  {
   "cell_type": "code",
   "execution_count": null,
   "metadata": {},
   "outputs": [],
   "source": [
    "if result.tables:\n",
    "    for table_idx, table in enumerate(result.tables):\n",
    "        print(f\"Table # {table_idx} has {table.row_count} rows and {table.column_count} columns\")\n",
    "        if table.bounding_regions:\n",
    "            for region in table.bounding_regions:\n",
    "                print(f\"Table # {table_idx} location on page: {region.page_number} is {region.polygon}\")\n",
    "        for cell in table.cells:\n",
    "            print(f\"...Cell[{cell.row_index}][{cell.column_index}] has text '{cell.content}'\")\n",
    "            if cell.bounding_regions:\n",
    "                for region in cell.bounding_regions:\n",
    "                    print(\n",
    "                        f\"...content on page {region.page_number} is within bounding polygon '{region.polygon}'\\n\"\n",
    "                    )\n",
    "print(\"----------------------------------------\")"
   ]
  },
  {
   "cell_type": "markdown",
   "metadata": {},
   "source": [
    "## 契約書\n",
    "以下のドキュメントで定義されている契約書モデル特有のフィールドを列挙します。\n",
    "\n",
    "https://learn.microsoft.com/azure/ai-services/document-intelligence/concept-contract?view=doc-intel-4.0.0#field-extraction"
   ]
  },
  {
   "cell_type": "code",
   "execution_count": null,
   "metadata": {},
   "outputs": [],
   "source": [
    "if result.documents:\n",
    "    for idx, contract in enumerate(result.documents):\n",
    "        print(f\"--------Analysis of contract #{idx + 1}--------\")\n",
    "        print(f\"Contract type: {contract.doc_type if contract.doc_type else 'N/A'}\")\n",
    "\n",
    "        if contract.fields:\n",
    "            title = contract.fields.get(\"Title\")\n",
    "            if title:\n",
    "                print(f\"Title: {title.get('valueString')} has confidence: \" f\"{title.confidence}\")\n",
    "\n",
    "            contract_id = contract.fields.get(\"ContractId\")\n",
    "            if contract_id:\n",
    "                print(f\"Contract ID: {contract_id.get('valueString')} has confidence: {contract_id.confidence}\")\n",
    "\n",
    "            parties = contract.fields.get(\"Parties\")\n",
    "            if parties:\n",
    "                print(\"Parties involved:\")\n",
    "                for idx, item in enumerate(parties.get(\"valueArray\")):\n",
    "                  print(f\"...Item #{idx + 1}\")\n",
    "                  item_address = item.get(\"valueObject\").get(\"Address\")\n",
    "                  if item_address:\n",
    "                      print(f\"......Address: {item_address.get('content')} \")\n",
    "                      if 'valueAddress' in item_address:\n",
    "                          value_address = item_address.get('valueAddress')\n",
    "                          print(\"......Address Details:\")\n",
    "                          for key, value in value_address.items():\n",
    "                              print(f\"............{key}: {value}\")\n",
    "\n",
    "                  item_clause = item.get(\"valueObject\").get(\"Clause\")\n",
    "                  if item_clause:\n",
    "                      print(f\"......Clause: {item_clause.get('valueString')} \")\n",
    "                  item_name = item.get(\"valueObject\").get(\"Name\")\n",
    "                  if item_name:\n",
    "                      print(f\"......Name: {item_name.get('valueString')} \")\n",
    "                  item_referencename = item.get(\"valueObject\").get(\"ReferenceName\")\n",
    "                  if item_referencename:\n",
    "                      print(f\"......ReferenceName: {item_referencename.get('valueString')} \")\n",
    "\n",
    "            execution_date = contract.fields.get(\"ExecutionDate\")\n",
    "            if execution_date:\n",
    "                print(f\"Execution Date: {execution_date.get('content')} has confidence: {execution_date.confidence}\")\n",
    "\n",
    "            expiration_date = contract.fields.get(\"ExpirationDate\")\n",
    "            if expiration_date:\n",
    "                print(f\"Expiration Date: {expiration_date.get('content')} has confidence: {expiration_date.confidence}\")\n",
    "\n",
    "            renewal_date = contract.fields.get(\"RenewalDate\")\n",
    "            if renewal_date:\n",
    "                print(f\"Renewal Date: {renewal_date.get('content')} has confidence: {renewal_date.confidence}\")\n",
    "\n",
    "            jurisdictions = contract.fields.get(\"Jurisdictions\")\n",
    "            if jurisdictions:\n",
    "                print(\"Jurisdictions involved:\")\n",
    "                for idx, item in enumerate(jurisdictions.get(\"valueArray\")):\n",
    "                  print(f\"...Item #{idx + 1}\")\n",
    "                  item_clause = item.get(\"valueObject\").get(\"Clause\")\n",
    "                  if item_clause:\n",
    "                      print(f\"......Clause: {item_clause.get('valueString')} \")\n",
    "                  item_region = item.get(\"valueObject\").get(\"Region\")\n",
    "                  if item_region:\n",
    "                      print(f\"......Region: {item_region.get('valueString')} \")\n",
    "\n",
    "\n"
   ]
  }
 ],
 "metadata": {
  "kernelspec": {
   "display_name": "py0115",
   "language": "python",
   "name": "python3"
  },
  "language_info": {
   "codemirror_mode": {
    "name": "ipython",
    "version": 3
   },
   "file_extension": ".py",
   "mimetype": "text/x-python",
   "name": "python",
   "nbconvert_exporter": "python",
   "pygments_lexer": "ipython3",
   "version": "3.10.13"
  }
 },
 "nbformat": 4,
 "nbformat_minor": 2
}
