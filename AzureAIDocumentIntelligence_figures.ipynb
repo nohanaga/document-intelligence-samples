{
 "cells": [
  {
   "cell_type": "markdown",
   "metadata": {},
   "source": [
    "# Document Intelligence 画像の分析\n",
    "\n",
    "Azure AI Document Intelligence の最新のレイアウトモデル（prebuilt-layout）は Microsoft の強力な光学式文字認識 (OCR) 機能の強化バージョンと、ディープラーニングモデルを組み合わせ、テキスト、テーブル、チェックマーク、ドキュメント構造を抽出します。今回は最新の Markdown 機能や図、セクションなどの構造解析データを分析してみましょう。\n",
    "\n",
    "レイアウトモデルによって検出される図形オブジェクトには、boundingRegions (ページ番号や図形の境界を囲む多角形座標など、ドキュメント ページ上の図形の空間位置)、spans (ドキュメントのテキスト内でのオフセットと長さを指定する、図形に関連するテキスト スパンの詳細) などの主要なプロパティがあります。\n",
    "\n",
    "https://learn.microsoft.com/azure/ai-services/document-intelligence/concept-layout?view=doc-intel-4.0.0#figures"
   ]
  },
  {
   "cell_type": "code",
   "execution_count": null,
   "metadata": {},
   "outputs": [],
   "source": [
    "# !pip install azure.ai.documentintelligence pymupdf Pillow --upgrade"
   ]
  },
  {
   "cell_type": "code",
   "execution_count": null,
   "metadata": {},
   "outputs": [],
   "source": [
    "import azure.ai.documentintelligence\n",
    "print(\"Azure Document Intelligence version: \", azure.ai.documentintelligence.__version__)"
   ]
  },
  {
   "cell_type": "code",
   "execution_count": null,
   "metadata": {},
   "outputs": [],
   "source": [
    "# import libraries\n",
    "import os\n",
    "from azure.core.credentials import AzureKeyCredential\n",
    "from azure.ai.documentintelligence import DocumentIntelligenceClient\n",
    "from azure.ai.documentintelligence.models import AnalyzeDocumentRequest, AnalyzeResult\n",
    "\n",
    "# set `<your-endpoint>` and `<your-key>` variables with the values from the Azure portal\n",
    "endpoint = \"<your-endpoint>\"\n",
    "key = \"<your-key>\"\n",
    "\n",
    "document_intelligence_client = DocumentIntelligenceClient(endpoint=endpoint, credential=AzureKeyCredential(key))"
   ]
  },
  {
   "cell_type": "markdown",
   "metadata": {},
   "source": [
    "## URL から呼ぶ方法"
   ]
  },
  {
   "cell_type": "code",
   "execution_count": null,
   "metadata": {},
   "outputs": [],
   "source": [
    "docUrl = \"https://documentintelligence.ai.azure.com/documents/samples/layout/layout-pageobject.pdf\"\n",
    "\n",
    "poller = document_intelligence_client.begin_analyze_document(\n",
    "    \"prebuilt-layout\", AnalyzeDocumentRequest(url_source=docUrl),output_content_format=\"markdown\"\n",
    ")\n",
    "result: AnalyzeResult = poller.result()"
   ]
  },
  {
   "cell_type": "markdown",
   "metadata": {},
   "source": [
    "## ファイルを直接アップロードする方法"
   ]
  },
  {
   "cell_type": "code",
   "execution_count": null,
   "metadata": {},
   "outputs": [],
   "source": [
    "path_to_sample_documents = \"./layout-pageobject.pdf\"\n",
    "#prebuilt-layout\n",
    "with open(path_to_sample_documents, \"rb\") as f:\n",
    "    poller = document_intelligence_client.begin_analyze_document(\n",
    "        \"prebuilt-layout\", analyze_request=f, content_type=\"application/octet-stream\"\n",
    "    )\n",
    "result: AnalyzeResult = poller.result()"
   ]
  },
  {
   "cell_type": "markdown",
   "metadata": {},
   "source": [
    "### Debug用コード\n",
    "\n",
    "[jsonpickle](https://pypi.org/project/jsonpickle/) ライブラリを使用すると `AnalyzeResult` オブジェクト構造をそのまま JSON へ保存できます。Document Intelligence の分析データを一旦自分の手元に置いて細かく調べたい時に有用です。VSCode の [Json Editor](https://marketplace.visualstudio.com/items?itemName=nickdemayo.vscode-json-editor) 拡張が便利です。"
   ]
  },
  {
   "cell_type": "code",
   "execution_count": null,
   "metadata": {},
   "outputs": [],
   "source": [
    "import jsonpickle\n",
    "# Debug 用(AnalyzeResultオブジェクト構造をそのままJSONへ)\n",
    "json_data = jsonpickle.encode(result)\n",
    "with open('analyzed_data_pageobject.json', \"w\", encoding='utf-8') as f:\n",
    "    f.write(json_data)\n",
    "\n",
    "# JSON からオブジェクト構造を復元\n",
    "# f = open(\"analyzed_data_pageobject.json\")\n",
    "# json_str = f.read()\n",
    "# result = jsonpickle.decode(json_str)"
   ]
  },
  {
   "cell_type": "markdown",
   "metadata": {},
   "source": [
    "## テキスト行の手書きスタイル\n",
    "応答では、各テキスト行が手書きスタイルであるかどうかと、信頼度スコアが分類されます。\n"
   ]
  },
  {
   "cell_type": "code",
   "execution_count": null,
   "metadata": {},
   "outputs": [],
   "source": [
    "for idx, style in enumerate(result.styles):\n",
    "    print(\n",
    "        \"Document contains {} content\".format(\n",
    "            \"handwritten\" if style.is_handwritten else \"no handwritten\"\n",
    "        )\n",
    "    )"
   ]
  },
  {
   "cell_type": "markdown",
   "metadata": {},
   "source": [
    "## ページ\n",
    "ページ コレクションは、サービス応答に表示される最初のオブジェクトです。レイアウトモデルでは、印刷および手書きのスタイルテキストが `lines` および `words` として抽出されます。このモデルでは、抽出された単語の境界 `polygon` 座標と `confidence` を出力します。\n",
    "\n",
    "### 選択マーク\n",
    "ドキュメントから選択マークも抽出されます。抽出された選択マークは、各ページの `pages` コレクション内に示されます。これには、境界 `polygon`、`confidence`、および選択 `state` (`selected/unselected`) が含まれます。関連するテキスト (抽出された場合) も、開始インデックス (`offset`) と `length` として含まれます。`length` はドキュメントのテキスト全体を含む最上位の `content` プロパティを参照します。"
   ]
  },
  {
   "cell_type": "code",
   "execution_count": null,
   "metadata": {},
   "outputs": [],
   "source": [
    "for page in result.pages:\n",
    "    print(f\"----Analyzing layout from page #{page.page_number}----\")\n",
    "    print(f\"Page has width: {page.width} and height: {page.height}, measured with unit: {page.unit}\")\n",
    "\n",
    "    if page.lines:\n",
    "        for line_idx, line in enumerate(page.lines):\n",
    "            print(f\"...Line # {line_idx} {line.content}\")\n",
    "\n",
    "    if page.selection_marks:\n",
    "        for selection_mark in page.selection_marks:\n",
    "            print(\n",
    "                f\"Selection mark is '{selection_mark.state}' within bounding polygon \"\n",
    "                f\"'{selection_mark.polygon}' and has a confidence of {selection_mark.confidence}\"\n",
    "            )"
   ]
  },
  {
   "cell_type": "markdown",
   "metadata": {},
   "source": [
    "## テーブル\n",
    "レイアウトモデルでは、JSON 出力の `pageResults` セクションにテーブルが抽出されます。抽出されるテーブル情報には、列と行の数、行の範囲、列の範囲が含まれます。境界ポリゴンのある各セルは、その領域が `columnHeader` として認識されているかどうかにかかわらず、情報と共に出力されます。このモデルでは、回転されるテーブルの抽出がサポートされています。各テーブル セルには、行と列のインデックスと境界ポリゴン座標が含まれています。セル テキストの場合、このモデルは開始インデックス (`offset`) を含む `span` 情報を出力します。"
   ]
  },
  {
   "cell_type": "code",
   "execution_count": null,
   "metadata": {},
   "outputs": [],
   "source": [
    "if result.tables:\n",
    "    for table_idx, table in enumerate(result.tables):\n",
    "        print(f\"Table # {table_idx} has {table.row_count} rows and {table.column_count} columns\")\n",
    "        if table.bounding_regions:\n",
    "            for region in table.bounding_regions:\n",
    "                print(f\"Table # {table_idx} location on page: {region.page_number} is {region.polygon}\")\n",
    "        for cell in table.cells:\n",
    "            print(f\"...Cell[{cell.row_index}][{cell.column_index}] has text '{cell.content}'\")\n",
    "            if cell.bounding_regions:\n",
    "                for region in cell.bounding_regions:\n",
    "                    print(\n",
    "                        f\"...content on page {region.page_number} is within bounding polygon '{region.polygon}'\\n\"\n",
    "                    )\n",
    "print(\"----------------------------------------\")"
   ]
  },
  {
   "cell_type": "markdown",
   "metadata": {},
   "source": [
    "### 別の表記"
   ]
  },
  {
   "cell_type": "code",
   "execution_count": null,
   "metadata": {},
   "outputs": [],
   "source": [
    "def get_tables(result):\n",
    "    tables = []\n",
    "    for table_idx, table in enumerate(result.tables):\n",
    "        cells = []\n",
    "        for cell in table.cells: \n",
    "            cells.append( {\n",
    "                \"row_index\": cell.row_index,\n",
    "                \"column_index\": cell.column_index,\n",
    "                \"content\": cell.content,\n",
    "            })\n",
    "        tab = {\n",
    "                \"row_count\": table.row_count,\n",
    "                \"column_count\": table.column_count,\n",
    "                \"cells\": cells\n",
    "        }\n",
    "        tables.append(tab)\n",
    "        return tables\n",
    "    \n",
    "get_tables(result)"
   ]
  },
  {
   "cell_type": "markdown",
   "metadata": {},
   "source": [
    "## 段落\n",
    "`AnalyzeResult` の最上位オブジェクトとして、段落ごとのテキストブロックを抽出します。このコレクション内の各エントリはテキスト ブロックを表し、抽出されたテキスト (`content`) と `polygon` 矩形座標を含みます。`role` にはタイトル、セクション見出し、ページ ヘッダー、ページ フッターなどの属性を表す論理ロールが格納されます。"
   ]
  },
  {
   "cell_type": "code",
   "execution_count": null,
   "metadata": {},
   "outputs": [],
   "source": [
    "def get_paragraphs(result):\n",
    "    paragraphs = []\n",
    "    for idx, paragraph in enumerate(result.paragraphs):\n",
    "        item = {\n",
    "            \"id\": \"/paragraphs/\" + str(idx),\n",
    "            \"content\": paragraph.content if paragraph.content else \"\",\n",
    "            \"role\": paragraph.role if paragraph.role else \"\",\n",
    "            \"polygon\": paragraph.get(\"boundingRegions\")[0][\"polygon\"],\n",
    "            \"pageNumber\": paragraph.get(\"boundingRegions\")[0][\"pageNumber\"]\n",
    "        }\n",
    "        paragraphs.append(item)\n",
    "    return paragraphs\n",
    "\n",
    "get_paragraphs(result)"
   ]
  },
  {
   "cell_type": "markdown",
   "metadata": {},
   "source": [
    "## セクション\n",
    "階層型ドキュメント構造分析の実行結果が格納されます。非構造化ドキュメントの階層構造を理解するために便利なデータ構造が得られます。"
   ]
  },
  {
   "cell_type": "code",
   "execution_count": null,
   "metadata": {},
   "outputs": [],
   "source": [
    "def get_sections(result):\n",
    "    sections = []\n",
    "    for section in result.sections:\n",
    "        sections.append(section.elements)\n",
    "    return sections\n",
    "\n",
    "get_sections(result)"
   ]
  },
  {
   "cell_type": "markdown",
   "metadata": {},
   "source": [
    "###  階層構造を生成"
   ]
  },
  {
   "cell_type": "code",
   "execution_count": null,
   "metadata": {},
   "outputs": [],
   "source": [
    "# 入力データ\n",
    "input_data = [\n",
    "    ['/paragraphs/1', '/sections/1', '/sections/2', '/sections/5'],\n",
    "    ['/paragraphs/2', '/paragraphs/3'],\n",
    "    ['/paragraphs/4', '/sections/3', '/sections/4'],\n",
    "    ['/paragraphs/5', '/paragraphs/6', '/tables/0'],\n",
    "    ['/paragraphs/15', '/figures/0'],\n",
    "    ['/paragraphs/37', '/paragraphs/38', '/paragraphs/39', '/paragraphs/40', '/paragraphs/41', '/paragraphs/42', '/paragraphs/43', '/paragraphs/44']\n",
    "]\n",
    "\n",
    "def explore_sections(input_data, indices, depth=0):\n",
    "    indent = ' ' * depth  # 階層に応じたインデント\n",
    "    for idx in indices:\n",
    "        if idx < len(input_data):\n",
    "            for path in input_data[idx]:\n",
    "                print(indent + f\"{idx}: {path}\")\n",
    "                if 'sections' in path:\n",
    "                    number = int(path.split('/')[-1])\n",
    "                    # 再帰的にさらにそのセクションを探索\n",
    "                    explore_sections(input_data, [number], depth + 2)\n",
    "\n",
    "def generate_hierarchy(input_data):\n",
    "    initial_indices = [0]\n",
    "    # 最初のリストの全要素を表示するために初期インデックスを0に設定し、そこから探索開始\n",
    "    explore_sections(input_data, initial_indices)\n",
    "\n",
    "# 階層構造を生成\n",
    "generate_hierarchy(input_data)"
   ]
  },
  {
   "cell_type": "markdown",
   "metadata": {},
   "source": [
    "## 画像\n",
    "ドキュメント内の図形 (グラフ、イメージ) は、以下のように図の `caption`(存在する場合)、`boundingRegions` ドキュメント ページ上の図形の空間位置座標(pt)、`pageNumber` ページ番号、`elements` 図に関連する、または図を説明するドキュメント内のテキスト要素または段落の識別子などを取得できます。"
   ]
  },
  {
   "cell_type": "code",
   "execution_count": null,
   "metadata": {},
   "outputs": [],
   "source": [
    "if result.figures:\n",
    "    for idx, figures in enumerate(result.figures):\n",
    "        print(f\"--------Analysis of Figures #{idx + 1}--------\")\n",
    "\n",
    "        if figures.caption:\n",
    "            title = figures.caption.get(\"content\")\n",
    "            if title:\n",
    "                print(f\"Caption: {title}\")\n",
    "\n",
    "            elements = figures.caption.get(\"elements\")\n",
    "            if elements:\n",
    "                print(\"...caption elements involved:\")\n",
    "                for item in elements:\n",
    "                  print(f\"......Item #{item}\")\n",
    "\n",
    "            captionBR = []\n",
    "            caption_boundingRegions = figures.caption.get(\"boundingRegions\")\n",
    "            if caption_boundingRegions:\n",
    "                print(\"...caption bounding regions involved:\")\n",
    "                for item in caption_boundingRegions:\n",
    "                    #print(f\"...Item #{item}\")\n",
    "                    print(f\"......Item pageNumber: {item.get('pageNumber')}\")\n",
    "                    print(f\"......Item polygon: {item.get('polygon')}\")\n",
    "                    captionBR = item.get('polygon')\n",
    "\n",
    "        if figures.elements:\n",
    "            print(\"Elements involved:\")\n",
    "            for item in figures.elements:\n",
    "                print(f\"...Item #{item}\")\n",
    "\n",
    "        boundingRegions = figures.get(\"boundingRegions\")\n",
    "        if boundingRegions:\n",
    "            print(\"Bounding regions involved:\")\n",
    "            for item in boundingRegions:\n",
    "                #print(f\"...Item #{item}\")\n",
    "                if captionBR != item.get('polygon'):\n",
    "                    print(f\"......Item pageNumber: {item.get('pageNumber')}\")\n",
    "                    print(f\"......Item polygon: {item.get('polygon')}\")\n"
   ]
  },
  {
   "cell_type": "markdown",
   "metadata": {},
   "source": [
    "### 図の切り出しと保存\n",
    "ちょうど [Microsoft techcommunity](https://techcommunity.microsoft.com/t5/ai-azure-ai-services-blog/build-intelligent-rag-for-multimodality-and-complex-document/ba-p/4118184) で紹介されていたコードがすぐ使えるので引用します。[PyMuPDF](https://pymupdf.readthedocs.io/ja/latest/) ライブラリを利用して直接 PDF から画像として切り出しています。\n"
   ]
  },
  {
   "cell_type": "code",
   "execution_count": null,
   "metadata": {},
   "outputs": [],
   "source": [
    "from PIL import Image\n",
    "import fitz  # PyMuPDF\n",
    "import mimetypes\n",
    "\n",
    "import base64\n",
    "from mimetypes import guess_type\n",
    "\n",
    "# Function to encode a local image into data URL \n",
    "def local_image_to_data_url(image_path):\n",
    "    # Guess the MIME type of the image based on the file extension\n",
    "    mime_type, _ = guess_type(image_path)\n",
    "    if mime_type is None:\n",
    "        mime_type = 'application/octet-stream'  # Default MIME type if none is found\n",
    "\n",
    "    # Read and encode the image file\n",
    "    with open(image_path, \"rb\") as image_file:\n",
    "        base64_encoded_data = base64.b64encode(image_file.read()).decode('utf-8')\n",
    "\n",
    "    # Construct the data URL\n",
    "    return f\"data:{mime_type};base64,{base64_encoded_data}\"\n",
    "\n",
    "def crop_image_from_image(image_path, page_number, bounding_box):\n",
    "    \"\"\"\n",
    "    Crops an image based on a bounding box.\n",
    "\n",
    "    :param image_path: Path to the image file.\n",
    "    :param page_number: The page number of the image to crop (for TIFF format).\n",
    "    :param bounding_box: A tuple of (left, upper, right, lower) coordinates for the bounding box.\n",
    "    :return: A cropped image.\n",
    "    :rtype: PIL.Image.Image\n",
    "    \"\"\"\n",
    "    with Image.open(image_path) as img:\n",
    "        if img.format == \"TIFF\":\n",
    "            # Open the TIFF image\n",
    "            img.seek(page_number)\n",
    "            img = img.copy()\n",
    "            \n",
    "        # The bounding box is expected to be in the format (left, upper, right, lower).\n",
    "        cropped_image = img.crop(bounding_box)\n",
    "        return cropped_image\n",
    "\n",
    "def crop_image_from_pdf_page(pdf_path, page_number, bounding_box):\n",
    "    \"\"\"\n",
    "    Crops a region from a given page in a PDF and returns it as an image.\n",
    "\n",
    "    :param pdf_path: Path to the PDF file.\n",
    "    :param page_number: The page number to crop from (0-indexed).\n",
    "    :param bounding_box: A tuple of (x0, y0, x1, y1) coordinates for the bounding box.\n",
    "    :return: A PIL Image of the cropped area.\n",
    "    \"\"\"\n",
    "    doc = fitz.open(pdf_path)\n",
    "    page = doc.load_page(page_number)\n",
    "    \n",
    "    # Cropping the page. The rect requires the coordinates in the format (x0, y0, x1, y1).\n",
    "    # The coordinates are in points (1/72 inch).\n",
    "    bbx = [x * 72 for x in bounding_box]\n",
    "    rect = fitz.Rect(bbx)\n",
    "    pix = page.get_pixmap(matrix=fitz.Matrix(300/72, 300/72), clip=rect)\n",
    "    img = Image.frombytes(\"RGB\", [pix.width, pix.height], pix.samples)\n",
    "    \n",
    "    doc.close()\n",
    "\n",
    "    return img\n",
    "\n",
    "def crop_image_from_file(file_path, page_number, bounding_box):\n",
    "    \"\"\"\n",
    "    Crop an image from a file.\n",
    "\n",
    "    Args:\n",
    "        file_path (str): The path to the file.\n",
    "        page_number (int): The page number (for PDF and TIFF files, 0-indexed).\n",
    "        bounding_box (tuple): The bounding box coordinates in the format (x0, y0, x1, y1).\n",
    "\n",
    "    Returns:\n",
    "        A PIL Image of the cropped area.\n",
    "    \"\"\"\n",
    "    mime_type = mimetypes.guess_type(file_path)[0]\n",
    "    \n",
    "    if mime_type == \"application/pdf\":\n",
    "        return crop_image_from_pdf_page(file_path, page_number, bounding_box)\n",
    "    else:\n",
    "        return crop_image_from_image(file_path, page_number, bounding_box)"
   ]
  },
  {
   "cell_type": "code",
   "execution_count": null,
   "metadata": {},
   "outputs": [],
   "source": [
    "polygon = [1.0301, 7.1098, 4.1763, 7.1074, 4.1781, 9.0873, 1.0324, 9.0891]\n",
    "bounding_box = (polygon[0], polygon[1], polygon[4], polygon[5])\n",
    "image = crop_image_from_file(\"layout-pageobject.pdf\", 0, bounding_box)\n",
    "image.show()"
   ]
  },
  {
   "cell_type": "code",
   "execution_count": null,
   "metadata": {},
   "outputs": [],
   "source": [
    "image.save(\"figure_1.png\")"
   ]
  }
 ],
 "metadata": {
  "kernelspec": {
   "display_name": "py0115",
   "language": "python",
   "name": "python3"
  },
  "language_info": {
   "codemirror_mode": {
    "name": "ipython",
    "version": 3
   },
   "file_extension": ".py",
   "mimetype": "text/x-python",
   "name": "python",
   "nbconvert_exporter": "python",
   "pygments_lexer": "ipython3",
   "version": "3.10.13"
  }
 },
 "nbformat": 4,
 "nbformat_minor": 2
}
